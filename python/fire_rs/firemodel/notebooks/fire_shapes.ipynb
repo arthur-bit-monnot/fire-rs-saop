{
 "worksheets": [
  {
   "cells": [
    {
     "cell_type": "code",
     "execution_count": null,
     "metadata": {},
     "outputs": [],
     "input": [
      "import sys\n",
      "import os\n",
      "import numpy as np\n",
      "from matplotlib import pyplot as plt\n",
      "sys.path.append(os.path.abspath(os.path.join('..')))\n",
      "import fireshapes"
     ],
     "language": "python"
    },
    {
     "cell_type": "code",
     "execution_count": null,
     "metadata": {},
     "outputs": [],
     "input": [
      "def cartesian_vector(length, angle):\n",
      "    return (length * np.cos(angle), length * np.sin(angle))"
     ],
     "language": "python"
    },
    {
     "cell_type": "code",
     "execution_count": null,
     "metadata": {},
     "outputs": [],
     "input": [
      "angles = np.linspace(0, np.pi, num = 2)\n",
      "speeds_by_shape = []\n",
      "def plot_fire_shape(plot, shape):\n",
      "    subspeeds = [shape.speed(angle) for angle in angles]\n",
      "    speeds_by_shape.append(subspeeds)\n",
      "    for angle in angles:\n",
      "        speed = shape.speed(angle)\n",
      "        dx, dy = cartesian_vector(speed, angle)\n",
      "        plot.quiver(0, 0, dx, dy, angles='xy', scale_units='xy', scale=1)\n",
      "    plot.axis('equal')\n",
      "    plot.set_xlim([-10, 10])\n",
      "    plot.set_ylim([-10, 10])\n",
      "    plot.plot(0, 0, 'ro')\n",
      "\n",
      "f, subplots = plt.subplots(2, 2)              \n",
      "speeds = np.linspace(0, 10, num=3)\n",
      "\n",
      "for speed, plot in zip(speeds, subplots.flatten()):\n",
      "    shape = fireshapes.get_fire_shape(speed, 0, 10)\n",
      "    plot_fire_shape(plot, shape)\n",
      "    plot.set_title('Wind: {} km/h'.format(speed))\n",
      "print(\"2D Rate of Spread [m/s] for various wind speed. RoS in the main direction is 10 m/s\")\n",
      "#plt.show(block=False)"
     ],
     "language": "python"
    },
    {
     "cell_type": "code",
     "execution_count": null,
     "metadata": {},
     "outputs": [],
     "input": [
      "#speeds_by_shape"
     ],
     "language": "python"
    },
    {
     "cell_type": "code",
     "execution_count": null,
     "metadata": {},
     "outputs": [],
     "input": [
      "s = np.swapaxes(speeds_by_shape, 0, 1)"
     ],
     "language": "python"
    },
    {
     "cell_type": "code",
     "execution_count": null,
     "metadata": {},
     "outputs": [],
     "input": [
      "def correlation_matrix(df):\n",
      "    from matplotlib import pyplot as plt\n",
      "    from matplotlib import cm as cm\n",
      "\n",
      "    fig = plt.figure()\n",
      "    ax1 = fig.add_subplot(111)\n",
      "    cmap = cm.get_cmap('jet', 30)\n",
      "    cax = ax1.imshow(np.corrcoef(df), interpolation=\"nearest\", cmap=cmap)\n",
      "    ax1.grid(True)\n",
      "\n",
      "    # Add colorbar, make sure to specify tick locations to match desired ticklabels\n",
      "    fig.colorbar(cax, ticks=np.linspace(-1, 1, 10))\n",
      "    plt.show()"
     ],
     "language": "python"
    },
    {
     "cell_type": "code",
     "execution_count": null,
     "metadata": {},
     "outputs": [],
     "input": [
      "correlation_matrix(s)"
     ],
     "language": "python"
    },
    {
     "cell_type": "code",
     "execution_count": null,
     "metadata": {},
     "outputs": [],
     "input": [
      "np.swapaxes(np.corrcoef(s), 0,1)"
     ],
     "language": "python"
    },
    {
     "cell_type": "code",
     "execution_count": null,
     "metadata": {},
     "outputs": [],
     "input": [
      "s"
     ],
     "language": "python"
    },
    {
     "cell_type": "code",
     "execution_count": null,
     "metadata": {},
     "outputs": [],
     "input": [
      ""
     ],
     "language": "python"
    }
   ]
  }
 ],
 "cells": [],
 "metadata": {
  "anaconda-cloud": {},
  "kernelspec": {
   "display_name": "Python [conda root]",
   "language": "python",
   "name": "conda-root-py"
  },
  "language_info": {
   "codemirror_mode": {
    "name": "ipython",
    "version": 3.0
   },
   "file_extension": ".py",
   "mimetype": "text/x-python",
   "name": "python",
   "nbconvert_exporter": "python",
   "pygments_lexer": "ipython3"
  },
  "name": ""
 },
 "nbformat": 4,
 "nbformat_minor": 0
}