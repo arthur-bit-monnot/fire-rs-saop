{
 "metadata": {
  "kernelspec": {
   "display_name": "Python [conda root]",
   "language": "python",
   "name": "conda-root-py"
  },
  "language_info": {
   "codemirror_mode": {
    "name": "ipython",
    "version": 3
   },
   "file_extension": ".py",
   "mimetype": "text/x-python",
   "name": "python",
   "nbconvert_exporter": "python",
   "pygments_lexer": "ipython3"
  },
  "name": ""
 },
 "nbformat": 3,
 "nbformat_minor": 0,
 "worksheets": [
  {
   "cells": [
    {
     "cell_type": "code",
     "collapsed": false,
     "input": [
      "import sys\n",
      "import os\n",
      "import numpy as np\n",
      "from matplotlib import pyplot as plt\n",
      "sys.path.append(os.path.abspath(os.path.join('../..')))\n",
      "from firemodel import rothermel\n",
      "from firemodel.environment import fuel_models, moisture_scenarios"
     ],
     "language": "python",
     "metadata": {},
     "outputs": []
    },
    {
     "cell_type": "code",
     "collapsed": false,
     "input": [
      "print(fuel_models['A1'])"
     ],
     "language": "python",
     "metadata": {},
     "outputs": []
    },
    {
     "cell_type": "code",
     "collapsed": false,
     "input": [
      "print(moisture_scenarios['D2L2'])"
     ],
     "language": "python",
     "metadata": {},
     "outputs": []
    },
    {
     "cell_type": "code",
     "collapsed": false,
     "input": [
      "# Run rothermel model on predefined fuel and moisture models\n",
      "rothermel.ros('A1', 'D2L2', 15, 10)"
     ],
     "language": "python",
     "metadata": {},
     "outputs": []
    },
    {
     "cell_type": "code",
     "collapsed": false,
     "input": [
      "# Run rothermel model with explicit fuel/moisture parameters\n",
      "rothermel.ros_detailed(modeltype=1, loads=(1.6599999999999999, 0.0, 0.0, 0.0, 0.0), savs=(11483, 0, 0, 0, 0),\n",
      "             depth=30, mx_dead=12, heat_contents=(12, 18622, 18622, 18622, 18622),\n",
      "             moistures=moisture_scenarios['D1L1'].moistures, wind=0, slope=0)"
     ],
     "language": "python",
     "metadata": {},
     "outputs": []
    },
    {
     "cell_type": "code",
     "collapsed": false,
     "input": [
      "# Run rothermel on randomly selected configurations\n",
      "import random\n",
      "import pprint\n",
      "\n",
      "# generate configurations to test against\n",
      "confs = []\n",
      "for fuel in fuel_models.keys():\n",
      "    for moisture in moisture_scenarios.keys():\n",
      "        for wind in np.linspace(0, 30, num=10):\n",
      "            for slope in np.linspace(0, 100, num=10):\n",
      "                confs.append((fuel, moisture, wind, slope))\n",
      "                \n",
      "# select 30 of those configurations                \n",
      "rand_confs = [ confs[i] for i in sorted(random.sample(range(len(confs)), 30)) ]\n",
      "\n",
      "# compute ros for all selected confs\n",
      "res = []\n",
      "for fuel, moisture, wind, slope in rand_confs:\n",
      "    ros, summary = rothermel.ros(fuel, moisture, wind, slope)\n",
      "    res.append((fuel, moisture, wind, slope, ros))\n",
      "\n",
      "pprint.pprint(sorted(res))"
     ],
     "language": "python",
     "metadata": {},
     "outputs": []
    },
    {
     "cell_type": "code",
     "collapsed": false,
     "input": [],
     "language": "python",
     "metadata": {},
     "outputs": []
    }
   ],
   "metadata": {}
  }
 ]
}