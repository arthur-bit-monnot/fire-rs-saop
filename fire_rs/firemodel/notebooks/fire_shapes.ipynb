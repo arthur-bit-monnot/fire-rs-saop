{
 "metadata": {
  "anaconda-cloud": {},
  "kernelspec": {
   "display_name": "Python [conda root]",
   "language": "python",
   "name": "conda-root-py"
  },
  "language_info": {
   "codemirror_mode": {
    "name": "ipython",
    "version": 3
   },
   "file_extension": ".py",
   "mimetype": "text/x-python",
   "name": "python",
   "nbconvert_exporter": "python",
   "pygments_lexer": "ipython3"
  },
  "name": ""
 },
 "nbformat": 3,
 "nbformat_minor": 0,
 "worksheets": [
  {
   "cells": [
    {
     "cell_type": "code",
     "collapsed": false,
     "input": [
      "import sys\n",
      "import os\n",
      "import numpy as np\n",
      "from matplotlib import pyplot as plt\n",
      "sys.path.append(os.path.abspath(os.path.join('..')))\n",
      "import fireshapes"
     ],
     "language": "python",
     "metadata": {},
     "outputs": []
    },
    {
     "cell_type": "code",
     "collapsed": false,
     "input": [
      "def cartesian_vector(length, angle):\n",
      "    return (length * np.cos(angle), length * np.sin(angle))"
     ],
     "language": "python",
     "metadata": {},
     "outputs": []
    },
    {
     "cell_type": "code",
     "collapsed": false,
     "input": [
      "def plot_fire_shape(plot, shape):\n",
      "    for angle in np.linspace(0, 2*np.pi, num = 100):\n",
      "        speed = shape.speed(angle)\n",
      "        dx, dy = cartesian_vector(speed, angle)\n",
      "        plot.quiver(0, 0, dx, dy, angles='xy', scale_units='xy', scale=1)\n",
      "    plot.axis('equal')\n",
      "    plot.set_xlim([-shape.ros, shape.ros])\n",
      "    plot.set_ylim([-shape.ros, shape.ros])\n",
      "    plot.plot(0, 0, 'ro')\n",
      "\n",
      "f, subplots = plt.subplots(2, 2)              \n",
      "speeds = np.linspace(0, 15, num=4)\n",
      "\n",
      "for speed, plot in zip(speeds, subplots.flatten()):\n",
      "    shape = fireshapes.get_fire_shape(speed, 0, 10)\n",
      "    plot_fire_shape(plot, shape)\n",
      "    plot.set_title('Wind: {} km/h'.format(speed))\n",
      "print(\"2D Rate of Spread [m/s] for various wind speed. RoS in the main direction is 10 m/s\")\n",
      "plt.show()    "
     ],
     "language": "python",
     "metadata": {},
     "outputs": []
    },
    {
     "cell_type": "code",
     "collapsed": false,
     "input": [],
     "language": "python",
     "metadata": {},
     "outputs": []
    }
   ],
   "metadata": {}
  }
 ]
}